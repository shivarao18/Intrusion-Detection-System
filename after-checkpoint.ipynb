{
 "cells": [
  {
   "cell_type": "code",
   "execution_count": 1,
   "id": "079542dd",
   "metadata": {},
   "outputs": [],
   "source": [
    "from sklearn.naive_bayes import GaussianNB, BernoulliNB\n",
    "from sklearn.metrics import accuracy_score, classification_report\n",
    "from sklearn.neighbors import KNeighborsClassifier\n",
    "from sklearn.linear_model import LogisticRegression\n",
    "from sklearn.linear_model import SGDClassifier\n",
    "from sklearn.model_selection import train_test_split\n",
    "from sklearn.metrics import confusion_matrix\n",
    "from sklearn.ensemble import RandomForestClassifier\n",
    "from sklearn.metrics import accuracy_score, classification_report\n",
    "from sklearn.preprocessing import StandardScaler\n",
    "from sklearn.preprocessing import MinMaxScaler\n",
    "from sklearn.feature_selection import SelectKBest\n",
    "from sklearn.feature_selection import chi2\n",
    "from sklearn.linear_model import LogisticRegression\n",
    "from sklearn.naive_bayes import GaussianNB\n",
    "from sklearn.neighbors import KNeighborsClassifier\n",
    "from sklearn.tree import DecisionTreeClassifier\n",
    "from sklearn.metrics import (precision_score, recall_score,f1_score, accuracy_score,mean_squared_error,mean_absolute_error)\n",
    "from sklearn.ensemble import AdaBoostClassifier\n",
    "from sklearn.ensemble import RandomForestClassifier\n",
    "from sklearn.preprocessing import Normalizer\n",
    "from sklearn.model_selection import GridSearchCV\n",
    "from sklearn.svm import SVC\n",
    "from sklearn.metrics import confusion_matrix\n",
    "from sklearn.metrics import (precision_score, recall_score,f1_score, accuracy_score,mean_squared_error,mean_absolute_error, roc_curve, classification_report,auc)\n",
    "from sklearn.kernel_approximation import RBFSampler\n",
    "from sklearn.neural_network import MLPClassifier\n",
    "from sklearn.preprocessing import StandardScaler\n",
    "from sklearn.decomposition import NMF;\n",
    "from sklearn.feature_extraction.text import TfidfTransformer\n",
    "from sklearn import preprocessing\n",
    "from sklearn import svm\n",
    "from sklearn import tree\n",
    "import pandas as pd\n",
    "import numpy as np\n",
    "import seaborn as sns"
   ]
  },
  {
   "cell_type": "code",
   "execution_count": 2,
   "id": "a5830a58",
   "metadata": {},
   "outputs": [],
   "source": [
    "col_names = np.array([\"protocol_type\",\"service\",\"flag\",\"src_bytes\",\n",
    "    \"dst_bytes\",\"land\",\"wrong_fragment\",\"urgent\",\"hot\",\"num_failed_logins\",\n",
    "    \"logged_in\",\"num_compromised\",\"root_shell\",\"su_attempted\",\"num_root\",\n",
    "    \"num_file_creations\",\"num_shells\",\"num_access_files\",\"num_outbound_cmds\",\n",
    "    \"is_host_login\",\"is_guest_login\",\"count\",\"srv_count\",\"serror_rate\",\n",
    "    \"srv_serror_rate\",\"rerror_rate\",\"srv_rerror_rate\",\"same_srv_rate\",\n",
    "    \"diff_srv_rate\",\"srv_diff_host_rate\",\"dst_host_count\",\"dst_host_srv_count\",\n",
    "    \"dst_host_same_srv_rate\",\"dst_host_diff_srv_rate\",\"dst_host_same_src_port_rate\",\n",
    "    \"dst_host_srv_diff_host_rate\",\"dst_host_serror_rate\",\"dst_host_srv_serror_rate\",\n",
    "    \"dst_host_rerror_rate\",\"dst_host_srv_rerror_rate\",\"labels\",\"port\"])\n",
    "\n",
    "data = pd.read_csv('KDDTrain+.txt', names=col_names)"
   ]
  },
  {
   "cell_type": "code",
   "execution_count": 3,
   "id": "b44ee00e",
   "metadata": {},
   "outputs": [],
   "source": [
    "label_encoder = preprocessing.LabelEncoder() \n",
    "  \n",
    "data['protocol_type']= label_encoder.fit_transform(data['protocol_type']) \n",
    "data['service']= label_encoder.fit_transform(data['service']) \n",
    "data['flag']= label_encoder.fit_transform(data['flag']) \n",
    "data['labels']= label_encoder.fit_transform(data['labels'])"
   ]
  },
  {
   "cell_type": "code",
   "execution_count": 4,
   "id": "2cb124fb",
   "metadata": {},
   "outputs": [
    {
     "data": {
      "text/html": [
       "<div>\n",
       "<style scoped>\n",
       "    .dataframe tbody tr th:only-of-type {\n",
       "        vertical-align: middle;\n",
       "    }\n",
       "\n",
       "    .dataframe tbody tr th {\n",
       "        vertical-align: top;\n",
       "    }\n",
       "\n",
       "    .dataframe thead th {\n",
       "        text-align: right;\n",
       "    }\n",
       "</style>\n",
       "<table border=\"1\" class=\"dataframe\">\n",
       "  <thead>\n",
       "    <tr style=\"text-align: right;\">\n",
       "      <th></th>\n",
       "      <th>protocol_type</th>\n",
       "      <th>service</th>\n",
       "      <th>flag</th>\n",
       "      <th>src_bytes</th>\n",
       "      <th>dst_bytes</th>\n",
       "      <th>land</th>\n",
       "      <th>wrong_fragment</th>\n",
       "      <th>urgent</th>\n",
       "      <th>hot</th>\n",
       "      <th>num_failed_logins</th>\n",
       "      <th>...</th>\n",
       "      <th>dst_host_same_srv_rate</th>\n",
       "      <th>dst_host_diff_srv_rate</th>\n",
       "      <th>dst_host_same_src_port_rate</th>\n",
       "      <th>dst_host_srv_diff_host_rate</th>\n",
       "      <th>dst_host_serror_rate</th>\n",
       "      <th>dst_host_srv_serror_rate</th>\n",
       "      <th>dst_host_rerror_rate</th>\n",
       "      <th>dst_host_srv_rerror_rate</th>\n",
       "      <th>labels</th>\n",
       "      <th>port</th>\n",
       "    </tr>\n",
       "  </thead>\n",
       "  <tbody>\n",
       "    <tr>\n",
       "      <th>0</th>\n",
       "      <td>1</td>\n",
       "      <td>20</td>\n",
       "      <td>9</td>\n",
       "      <td>491</td>\n",
       "      <td>0</td>\n",
       "      <td>0</td>\n",
       "      <td>0</td>\n",
       "      <td>0</td>\n",
       "      <td>0</td>\n",
       "      <td>0</td>\n",
       "      <td>...</td>\n",
       "      <td>0.17</td>\n",
       "      <td>0.03</td>\n",
       "      <td>0.17</td>\n",
       "      <td>0.00</td>\n",
       "      <td>0.00</td>\n",
       "      <td>0.00</td>\n",
       "      <td>0.05</td>\n",
       "      <td>0.00</td>\n",
       "      <td>11</td>\n",
       "      <td>20</td>\n",
       "    </tr>\n",
       "    <tr>\n",
       "      <th>0</th>\n",
       "      <td>2</td>\n",
       "      <td>44</td>\n",
       "      <td>9</td>\n",
       "      <td>146</td>\n",
       "      <td>0</td>\n",
       "      <td>0</td>\n",
       "      <td>0</td>\n",
       "      <td>0</td>\n",
       "      <td>0</td>\n",
       "      <td>0</td>\n",
       "      <td>...</td>\n",
       "      <td>0.00</td>\n",
       "      <td>0.60</td>\n",
       "      <td>0.88</td>\n",
       "      <td>0.00</td>\n",
       "      <td>0.00</td>\n",
       "      <td>0.00</td>\n",
       "      <td>0.00</td>\n",
       "      <td>0.00</td>\n",
       "      <td>11</td>\n",
       "      <td>15</td>\n",
       "    </tr>\n",
       "    <tr>\n",
       "      <th>0</th>\n",
       "      <td>1</td>\n",
       "      <td>49</td>\n",
       "      <td>5</td>\n",
       "      <td>0</td>\n",
       "      <td>0</td>\n",
       "      <td>0</td>\n",
       "      <td>0</td>\n",
       "      <td>0</td>\n",
       "      <td>0</td>\n",
       "      <td>0</td>\n",
       "      <td>...</td>\n",
       "      <td>0.10</td>\n",
       "      <td>0.05</td>\n",
       "      <td>0.00</td>\n",
       "      <td>0.00</td>\n",
       "      <td>1.00</td>\n",
       "      <td>1.00</td>\n",
       "      <td>0.00</td>\n",
       "      <td>0.00</td>\n",
       "      <td>9</td>\n",
       "      <td>19</td>\n",
       "    </tr>\n",
       "    <tr>\n",
       "      <th>0</th>\n",
       "      <td>1</td>\n",
       "      <td>24</td>\n",
       "      <td>9</td>\n",
       "      <td>232</td>\n",
       "      <td>8153</td>\n",
       "      <td>0</td>\n",
       "      <td>0</td>\n",
       "      <td>0</td>\n",
       "      <td>0</td>\n",
       "      <td>0</td>\n",
       "      <td>...</td>\n",
       "      <td>1.00</td>\n",
       "      <td>0.00</td>\n",
       "      <td>0.03</td>\n",
       "      <td>0.04</td>\n",
       "      <td>0.03</td>\n",
       "      <td>0.01</td>\n",
       "      <td>0.00</td>\n",
       "      <td>0.01</td>\n",
       "      <td>11</td>\n",
       "      <td>21</td>\n",
       "    </tr>\n",
       "    <tr>\n",
       "      <th>0</th>\n",
       "      <td>1</td>\n",
       "      <td>24</td>\n",
       "      <td>9</td>\n",
       "      <td>199</td>\n",
       "      <td>420</td>\n",
       "      <td>0</td>\n",
       "      <td>0</td>\n",
       "      <td>0</td>\n",
       "      <td>0</td>\n",
       "      <td>0</td>\n",
       "      <td>...</td>\n",
       "      <td>1.00</td>\n",
       "      <td>0.00</td>\n",
       "      <td>0.00</td>\n",
       "      <td>0.00</td>\n",
       "      <td>0.00</td>\n",
       "      <td>0.00</td>\n",
       "      <td>0.00</td>\n",
       "      <td>0.00</td>\n",
       "      <td>11</td>\n",
       "      <td>21</td>\n",
       "    </tr>\n",
       "  </tbody>\n",
       "</table>\n",
       "<p>5 rows × 42 columns</p>\n",
       "</div>"
      ],
      "text/plain": [
       "   protocol_type  service  flag  src_bytes  dst_bytes  land  wrong_fragment  \\\n",
       "0              1       20     9        491          0     0               0   \n",
       "0              2       44     9        146          0     0               0   \n",
       "0              1       49     5          0          0     0               0   \n",
       "0              1       24     9        232       8153     0               0   \n",
       "0              1       24     9        199        420     0               0   \n",
       "\n",
       "   urgent  hot  num_failed_logins  ...  dst_host_same_srv_rate  \\\n",
       "0       0    0                  0  ...                    0.17   \n",
       "0       0    0                  0  ...                    0.00   \n",
       "0       0    0                  0  ...                    0.10   \n",
       "0       0    0                  0  ...                    1.00   \n",
       "0       0    0                  0  ...                    1.00   \n",
       "\n",
       "   dst_host_diff_srv_rate  dst_host_same_src_port_rate  \\\n",
       "0                    0.03                         0.17   \n",
       "0                    0.60                         0.88   \n",
       "0                    0.05                         0.00   \n",
       "0                    0.00                         0.03   \n",
       "0                    0.00                         0.00   \n",
       "\n",
       "   dst_host_srv_diff_host_rate  dst_host_serror_rate  \\\n",
       "0                         0.00                  0.00   \n",
       "0                         0.00                  0.00   \n",
       "0                         0.00                  1.00   \n",
       "0                         0.04                  0.03   \n",
       "0                         0.00                  0.00   \n",
       "\n",
       "   dst_host_srv_serror_rate  dst_host_rerror_rate  dst_host_srv_rerror_rate  \\\n",
       "0                      0.00                  0.05                      0.00   \n",
       "0                      0.00                  0.00                      0.00   \n",
       "0                      1.00                  0.00                      0.00   \n",
       "0                      0.01                  0.00                      0.01   \n",
       "0                      0.00                  0.00                      0.00   \n",
       "\n",
       "   labels  port  \n",
       "0      11    20  \n",
       "0      11    15  \n",
       "0       9    19  \n",
       "0      11    21  \n",
       "0      11    21  \n",
       "\n",
       "[5 rows x 42 columns]"
      ]
     },
     "execution_count": 4,
     "metadata": {},
     "output_type": "execute_result"
    }
   ],
   "source": [
    "data.head()"
   ]
  },
  {
   "cell_type": "code",
   "execution_count": 5,
   "id": "049f8a76",
   "metadata": {},
   "outputs": [
    {
     "data": {
      "text/plain": [
       "(125973, 40)"
      ]
     },
     "execution_count": 5,
     "metadata": {},
     "output_type": "execute_result"
    }
   ],
   "source": [
    "data = data.drop(columns=['land'], axis=1).copy()\n",
    "data = data.drop(columns=['urgent'], axis=1).copy()\n",
    "data.shape"
   ]
  },
  {
   "cell_type": "code",
   "execution_count": 16,
   "id": "203234ad",
   "metadata": {},
   "outputs": [],
   "source": [
    "y=data['labels']\n",
    "X = data.drop(['labels'], axis = 1)\n",
    "X = pd.get_dummies(X, prefix_sep='_')"
   ]
  },
  {
   "cell_type": "code",
   "execution_count": 7,
   "id": "980a24c1",
   "metadata": {},
   "outputs": [],
   "source": [
    "normalized_X = preprocessing.normalize(X)"
   ]
  },
  {
   "cell_type": "code",
   "execution_count": 17,
   "id": "79c5de00",
   "metadata": {},
   "outputs": [
    {
     "name": "stderr",
     "output_type": "stream",
     "text": [
      "C:\\Users\\GOPI TANKALA\\AppData\\Local\\Programs\\Python\\Python311\\Lib\\site-packages\\sklearn\\feature_extraction\\text.py:1682: RuntimeWarning: divide by zero encountered in divide\n",
      "  idf = np.log(n_samples / df) + 1\n",
      "C:\\Users\\GOPI TANKALA\\AppData\\Local\\Programs\\Python\\Python311\\Lib\\site-packages\\sklearn\\decomposition\\_nmf.py:1665: ConvergenceWarning: Maximum number of iterations 400 reached. Increase it to improve convergence.\n",
      "  warnings.warn(\n",
      "C:\\Users\\GOPI TANKALA\\AppData\\Local\\Programs\\Python\\Python311\\Lib\\site-packages\\sklearn\\decomposition\\_nmf.py:1665: ConvergenceWarning: Maximum number of iterations 400 reached. Increase it to improve convergence.\n",
      "  warnings.warn(\n"
     ]
    }
   ],
   "source": [
    "transformer = TfidfTransformer(smooth_idf=False)\n",
    "x_tfidf = transformer.fit_transform(X)\n",
    "\n",
    "model = NMF(n_components=30, init='random',max_iter = 400);\n",
    "NMfc = model.fit(X,y).transform(X)"
   ]
  },
  {
   "cell_type": "code",
   "execution_count": 18,
   "id": "f43a0e27",
   "metadata": {},
   "outputs": [
    {
     "name": "stderr",
     "output_type": "stream",
     "text": [
      "C:\\Users\\GOPI TANKALA\\AppData\\Local\\Programs\\Python\\Python311\\Lib\\site-packages\\sklearn\\feature_extraction\\text.py:1682: RuntimeWarning: divide by zero encountered in divide\n",
      "  idf = np.log(n_samples / df) + 1\n",
      "C:\\Users\\GOPI TANKALA\\AppData\\Local\\Programs\\Python\\Python311\\Lib\\site-packages\\sklearn\\decomposition\\_nmf.py:1665: ConvergenceWarning: Maximum number of iterations 400 reached. Increase it to improve convergence.\n",
      "  warnings.warn(\n",
      "C:\\Users\\GOPI TANKALA\\AppData\\Local\\Programs\\Python\\Python311\\Lib\\site-packages\\sklearn\\decomposition\\_nmf.py:1665: ConvergenceWarning: Maximum number of iterations 600 reached. Increase it to improve convergence.\n",
      "  warnings.warn(\n",
      "C:\\Users\\GOPI TANKALA\\AppData\\Local\\Programs\\Python\\Python311\\Lib\\site-packages\\sklearn\\decomposition\\_nmf.py:1665: ConvergenceWarning: Maximum number of iterations 600 reached. Increase it to improve convergence.\n",
      "  warnings.warn(\n",
      "C:\\Users\\GOPI TANKALA\\AppData\\Local\\Programs\\Python\\Python311\\Lib\\site-packages\\sklearn\\decomposition\\_nmf.py:1665: ConvergenceWarning: Maximum number of iterations 600 reached. Increase it to improve convergence.\n",
      "  warnings.warn(\n"
     ]
    }
   ],
   "source": [
    "transformer = TfidfTransformer(smooth_idf=False)\n",
    "x_tfidf = transformer.fit_transform(X)\n",
    "\n",
    "model = NMF(n_components=30, init='random',max_iter = 400);\n",
    "NMfc = model.fit(X,y).transform(X)\n",
    "\n",
    "model = NMF(n_components=36, init='nndsvd',max_iter = 600);\n",
    "NMfc = model.fit(X,y).transform(X)\n",
    "\n",
    "model1 = NMF(n_components=33, init='nndsvd',max_iter = 600);\n",
    "NMfc1 = model1.fit(NMfc,y).transform(NMfc)\n",
    "\n",
    "model2 = NMF(n_components=30, init='nndsvd',max_iter = 600);\n",
    "NMfc2 = model2.fit(NMfc1,y).transform(NMfc1)\n",
    "\n",
    "model3 = NMF(n_components=27, init='nndsvd',max_iter =600);\n",
    "NMfc3 = model3.fit(NMfc2,y).transform(NMfc2)"
   ]
  },
  {
   "cell_type": "code",
   "execution_count": 31,
   "id": "fc142129",
   "metadata": {},
   "outputs": [
    {
     "name": "stdout",
     "output_type": "stream",
     "text": [
      "                       Features         Score\n",
      "3                     src_bytes  1.481971e+11\n",
      "4                     dst_bytes  8.998268e+10\n",
      "20                    srv_count  1.224049e+07\n",
      "19                        count  1.105906e+07\n",
      "29           dst_host_srv_count  7.744596e+06\n",
      "28               dst_host_count  2.471698e+06\n",
      "6                           hot  3.783817e+05\n",
      "5                wrong_fragment  3.553731e+05\n",
      "1                       service  2.095270e+05\n",
      "2                          flag  7.926044e+04\n",
      "35     dst_host_srv_serror_rate  6.692496e+04\n",
      "22              srv_serror_rate  6.558202e+04\n",
      "21                  serror_rate  6.477142e+04\n",
      "34         dst_host_serror_rate  6.461787e+04\n",
      "7             num_failed_logins  4.843775e+04\n",
      "8                     logged_in  4.089187e+04\n",
      "32  dst_host_same_src_port_rate  3.935043e+04\n",
      "12                     num_root  3.700346e+04\n",
      "30       dst_host_same_srv_rate  3.246180e+04\n",
      "25                same_srv_rate  3.224793e+04\n"
     ]
    }
   ],
   "source": [
    "bestfeatures = SelectKBest(score_func=chi2, k=20)\n",
    "fit = bestfeatures.fit(NMfc3,y)\n",
    "features = fit.transform(NMfc3)\n",
    "fit = bestfeatures.fit(X,y)\n",
    "features = fit.transform(X)\n",
    "dfscores = pd.DataFrame(fit.scores_)\n",
    "dfcolumns = pd.DataFrame(X.columns)\n",
    "# concat two dataframes for better visualization \n",
    "featureScores = pd.concat([dfcolumns,dfscores],axis=1)\n",
    "featureScores.columns = ['Features','Score']  #naming the dataframe columns\n",
    "X_uni=featureScores.nlargest(20,'Score')\n",
    "print(featureScores.nlargest(20,'Score'))  #print 20 best features\n"
   ]
  },
  {
   "cell_type": "code",
   "execution_count": 32,
   "id": "ec5b87fc",
   "metadata": {},
   "outputs": [],
   "source": [
    "normalized_X = preprocessing.normalize(features)\n",
    "normalized_Xnmf = preprocessing.normalize(NMfc)"
   ]
  },
  {
   "cell_type": "code",
   "execution_count": 29,
   "id": "88e6470f",
   "metadata": {},
   "outputs": [],
   "source": [
    "y = np.array(y)\n",
    "X_train, X_test, y_train, y_test = train_test_split(normalized_X,y,test_size=0.20, random_state=42)\n",
    "\n",
    "scaler = MinMaxScaler()\n",
    "X_train = scaler.fit_transform(X_train)\n",
    "X_test = scaler.transform(X_test)"
   ]
  },
  {
   "cell_type": "code",
   "execution_count": 9,
   "id": "0267db07",
   "metadata": {},
   "outputs": [
    {
     "name": "stdout",
     "output_type": "stream",
     "text": [
      "-----------------------------------------LR---------------------------------\n",
      "LogisticRegression_accuracy =  96.14209168485812\n",
      "precision = 0.95049\n",
      "recall = 0.96142\n",
      "f1score = 0.95303\n"
     ]
    },
    {
     "name": "stderr",
     "output_type": "stream",
     "text": [
      "C:\\Users\\GOPI TANKALA\\AppData\\Local\\Programs\\Python\\Python311\\Lib\\site-packages\\sklearn\\metrics\\_classification.py:1344: UndefinedMetricWarning: Precision is ill-defined and being set to 0.0 in labels with no predicted samples. Use `zero_division` parameter to control this behavior.\n",
      "  _warn_prf(average, modifier, msg_start, len(result))\n"
     ]
    }
   ],
   "source": [
    "LGR_Classifier = LogisticRegression(n_jobs=-1, random_state=0)\n",
    "LGR_Classifier.fit(X_train, y_train);\n",
    "\n",
    "predicted=LGR_Classifier.predict(X_test)\n",
    "\n",
    "print(\"-----------------------------------------LR---------------------------------\")\n",
    "# print(LGR_Classifier)\n",
    "\n",
    "accuracy = accuracy_score(predicted,y_test)\n",
    "recall = recall_score(y_test, predicted, average = \"weighted\")\n",
    "precision = precision_score(y_test, predicted , average=\"weighted\")\n",
    "f1 = f1_score(y_test, predicted, average=\"weighted\")\n",
    "\n",
    "print(\"LogisticRegression_accuracy = \",accuracy*100)\n",
    "print(\"precision = %.5f\" %precision)\n",
    "print(\"recall = %.5f\" %recall)\n",
    "print(\"f1score = %.5f\" %f1)"
   ]
  },
  {
   "cell_type": "code",
   "execution_count": 10,
   "id": "80a8e12c",
   "metadata": {},
   "outputs": [
    {
     "name": "stdout",
     "output_type": "stream",
     "text": [
      "-----------------------------------------DT---------------------------------\n",
      "decisionTree_accuracy =  99.6189720182576\n",
      "precision = 0.99641\n",
      "recall = 0.99619\n",
      "f1score = 0.99627\n"
     ]
    },
    {
     "name": "stderr",
     "output_type": "stream",
     "text": [
      "C:\\Users\\GOPI TANKALA\\AppData\\Local\\Programs\\Python\\Python311\\Lib\\site-packages\\sklearn\\metrics\\_classification.py:1344: UndefinedMetricWarning: Recall is ill-defined and being set to 0.0 in labels with no true samples. Use `zero_division` parameter to control this behavior.\n",
      "  _warn_prf(average, modifier, msg_start, len(result))\n",
      "C:\\Users\\GOPI TANKALA\\AppData\\Local\\Programs\\Python\\Python311\\Lib\\site-packages\\sklearn\\metrics\\_classification.py:1344: UndefinedMetricWarning: Precision is ill-defined and being set to 0.0 in labels with no predicted samples. Use `zero_division` parameter to control this behavior.\n",
      "  _warn_prf(average, modifier, msg_start, len(result))\n"
     ]
    }
   ],
   "source": [
    "model = DecisionTreeClassifier()\n",
    "model.fit(X_train, y_train)\n",
    "predicted = model.predict(X_test)\n",
    "accuracy = accuracy_score(predicted,y_test)\n",
    "# print(model)\n",
    "print(\"-----------------------------------------DT---------------------------------\")\n",
    "print(\"decisionTree_accuracy = \",accuracy*100)\n",
    "recall = recall_score(y_test, predicted, average = \"weighted\")\n",
    "precision = precision_score(y_test, predicted , average=\"weighted\")\n",
    "f1 = f1_score(y_test, predicted, average=\"weighted\")\n",
    "print(\"precision = %.5f\" %precision)\n",
    "print(\"recall = %.5f\" %recall)\n",
    "print(\"f1score = %.5f\" %f1)"
   ]
  },
  {
   "cell_type": "code",
   "execution_count": 11,
   "id": "8b198d6c",
   "metadata": {},
   "outputs": [
    {
     "name": "stdout",
     "output_type": "stream",
     "text": [
      "KNeighborsClassifier(n_neighbors=1)\n",
      "-----------------------------------------KNN---------------------------------\n",
      "knn_accuracy =  99.77773367731693\n",
      "precision = 0.99812\n",
      "recall = 0.99778\n",
      "f1score = 0.99791\n"
     ]
    },
    {
     "name": "stderr",
     "output_type": "stream",
     "text": [
      "C:\\Users\\GOPI TANKALA\\AppData\\Local\\Programs\\Python\\Python311\\Lib\\site-packages\\sklearn\\metrics\\_classification.py:1344: UndefinedMetricWarning: Recall is ill-defined and being set to 0.0 in labels with no true samples. Use `zero_division` parameter to control this behavior.\n",
      "  _warn_prf(average, modifier, msg_start, len(result))\n",
      "C:\\Users\\GOPI TANKALA\\AppData\\Local\\Programs\\Python\\Python311\\Lib\\site-packages\\sklearn\\metrics\\_classification.py:1344: UndefinedMetricWarning: Precision is ill-defined and being set to 0.0 in labels with no predicted samples. Use `zero_division` parameter to control this behavior.\n",
      "  _warn_prf(average, modifier, msg_start, len(result))\n"
     ]
    }
   ],
   "source": [
    "k = 1\n",
    "model = KNeighborsClassifier(n_neighbors=k)\n",
    "model.fit(X_train, y_train)\n",
    "predicted = model.predict(X_test)\n",
    "accuracy = accuracy_score(predicted,y_test)\n",
    "print(model)\n",
    "print(\"-----------------------------------------KNN---------------------------------\")\n",
    "print(\"knn_accuracy = \",accuracy*100)\n",
    "recall = recall_score(y_test, predicted, average = \"weighted\")\n",
    "precision = precision_score(y_test, predicted , average=\"weighted\")\n",
    "f1 = f1_score(y_test, predicted, average=\"weighted\")\n",
    "\n",
    "print(\"precision = %.5f\" %precision)\n",
    "print(\"recall = %.5f\" %recall)\n",
    "print(\"f1score = %.5f\" %f1)"
   ]
  },
  {
   "cell_type": "code",
   "execution_count": 12,
   "id": "2b26017a",
   "metadata": {},
   "outputs": [
    {
     "name": "stdout",
     "output_type": "stream",
     "text": [
      "--------------------------------------RF--------------------------------------\n",
      "rf_accuracy =  99.78567176026989\n",
      "precision = 0.99774\n",
      "recall = 0.99786\n",
      "f1score = 0.99773\n"
     ]
    },
    {
     "name": "stderr",
     "output_type": "stream",
     "text": [
      "C:\\Users\\GOPI TANKALA\\AppData\\Local\\Programs\\Python\\Python311\\Lib\\site-packages\\sklearn\\metrics\\_classification.py:1344: UndefinedMetricWarning: Precision is ill-defined and being set to 0.0 in labels with no predicted samples. Use `zero_division` parameter to control this behavior.\n",
      "  _warn_prf(average, modifier, msg_start, len(result))\n"
     ]
    }
   ],
   "source": [
    "model = RandomForestClassifier(n_estimators=100)\n",
    "model.fit(X_train, y_train)\n",
    "predicted = model.predict(X_test)\n",
    "accuracy = accuracy_score(predicted,y_test)\n",
    "# print(model)\n",
    "print(\"--------------------------------------RF--------------------------------------\")\n",
    "print(\"rf_accuracy = \",accuracy*100)\n",
    "recall = recall_score(y_test, predicted, average = \"weighted\")\n",
    "precision = precision_score(y_test, predicted , average=\"weighted\")\n",
    "f1 = f1_score(y_test, predicted, average=\"weighted\")\n",
    "\n",
    "print(\"precision = %.5f\" %precision)\n",
    "print(\"recall = %.5f\" %recall)\n",
    "print(\"f1score = %.5f\" %f1)"
   ]
  },
  {
   "cell_type": "code",
   "execution_count": 13,
   "id": "7fe4a4f2",
   "metadata": {},
   "outputs": [
    {
     "name": "stdout",
     "output_type": "stream",
     "text": [
      "SVC()\n",
      "--------------------------------------SVM--------------------------------------\n",
      "SVM_accuracy =  98.70212343718991\n",
      "precision = 0.99774\n",
      "recall = 0.99786\n",
      "f1score = 0.99773\n"
     ]
    },
    {
     "name": "stderr",
     "output_type": "stream",
     "text": [
      "C:\\Users\\GOPI TANKALA\\AppData\\Local\\Programs\\Python\\Python311\\Lib\\site-packages\\sklearn\\metrics\\_classification.py:1344: UndefinedMetricWarning: Precision is ill-defined and being set to 0.0 in labels with no predicted samples. Use `zero_division` parameter to control this behavior.\n",
      "  _warn_prf(average, modifier, msg_start, len(result))\n"
     ]
    }
   ],
   "source": [
    "from sklearn import svm\n",
    "svm = svm.SVC()\n",
    "svm = svm.fit(X_train,y_train)\n",
    "\n",
    "pred_svm = svm.predict(X_test)\n",
    "accuracy = accuracy_score(pred_svm, y_test)\n",
    "print(svm)\n",
    "print(\"--------------------------------------SVM--------------------------------------\")\n",
    "print(\"SVM_accuracy = \",accuracy*100)\n",
    "recall = recall_score(y_test, predicted, average = \"weighted\")\n",
    "precision = precision_score(y_test, predicted , average=\"weighted\")\n",
    "f1 = f1_score(y_test, predicted, average=\"weighted\")\n",
    "\n",
    "print(\"precision = %.5f\" %precision)\n",
    "print(\"recall = %.5f\" %recall)\n",
    "print(\"f1score = %.5f\" %f1)"
   ]
  },
  {
   "cell_type": "code",
   "execution_count": 14,
   "id": "8c5b68c1",
   "metadata": {},
   "outputs": [
    {
     "name": "stdout",
     "output_type": "stream",
     "text": [
      "-------------------------------------Feedforward Neural Network---------------------------------\n",
      "MLPClassifier(hidden_layer_sizes=(64, 32), max_iter=100)\n",
      "ffn_accuracy =  99.63484818416353\n",
      "precision = 0.99611\n",
      "recall = 0.99635\n",
      "f1score = 0.99609\n"
     ]
    },
    {
     "name": "stderr",
     "output_type": "stream",
     "text": [
      "C:\\Users\\GOPI TANKALA\\AppData\\Local\\Programs\\Python\\Python311\\Lib\\site-packages\\sklearn\\neural_network\\_multilayer_perceptron.py:686: ConvergenceWarning: Stochastic Optimizer: Maximum iterations (100) reached and the optimization hasn't converged yet.\n",
      "  warnings.warn(\n",
      "C:\\Users\\GOPI TANKALA\\AppData\\Local\\Programs\\Python\\Python311\\Lib\\site-packages\\sklearn\\metrics\\_classification.py:1344: UndefinedMetricWarning: Recall is ill-defined and being set to 0.0 in labels with no true samples. Use `zero_division` parameter to control this behavior.\n",
      "  _warn_prf(average, modifier, msg_start, len(result))\n",
      "C:\\Users\\GOPI TANKALA\\AppData\\Local\\Programs\\Python\\Python311\\Lib\\site-packages\\sklearn\\metrics\\_classification.py:1344: UndefinedMetricWarning: Precision is ill-defined and being set to 0.0 in labels with no predicted samples. Use `zero_division` parameter to control this behavior.\n",
      "  _warn_prf(average, modifier, msg_start, len(result))\n"
     ]
    }
   ],
   "source": [
    "from sklearn.neural_network import MLPClassifier\n",
    "from sklearn.metrics import accuracy_score, recall_score, precision_score, f1_score\n",
    "import numpy as np\n",
    "print(\"-------------------------------------Feedforward Neural Network---------------------------------\")\n",
    "model = MLPClassifier(hidden_layer_sizes=(64, 32), activation='relu', solver='adam', max_iter=100)\n",
    "model.fit(X_train, y_train)\n",
    "predicted = model.predict(X_test)\n",
    "accuracy = accuracy_score(predicted,y_test)\n",
    "print(model)\n",
    "print(\"ffn_accuracy = \",accuracy*100)\n",
    "recall = recall_score(y_test, predicted, average = \"weighted\")\n",
    "precision = precision_score(y_test, predicted , average=\"weighted\")\n",
    "f1 = f1_score(y_test, predicted, average=\"weighted\")\n",
    "\n",
    "print(\"precision = %.5f\" %precision)\n",
    "print(\"recall = %.5f\" %recall)\n",
    "print(\"f1score = %.5f\" %f1)"
   ]
  },
  {
   "cell_type": "code",
   "execution_count": 30,
   "id": "0401d1fc",
   "metadata": {},
   "outputs": [
    {
     "name": "stdout",
     "output_type": "stream",
     "text": [
      "-----------------------------------------AdaBoost---------------------------------\n",
      "AdaBoost_accuracy =  84.20321492359595\n",
      "precision = 0.73164\n",
      "recall = 0.84203\n",
      "f1score = 0.78272\n"
     ]
    },
    {
     "name": "stderr",
     "output_type": "stream",
     "text": [
      "C:\\Users\\GOPI TANKALA\\AppData\\Local\\Programs\\Python\\Python311\\Lib\\site-packages\\sklearn\\metrics\\_classification.py:1344: UndefinedMetricWarning: Precision is ill-defined and being set to 0.0 in labels with no predicted samples. Use `zero_division` parameter to control this behavior.\n",
      "  _warn_prf(average, modifier, msg_start, len(result))\n"
     ]
    }
   ],
   "source": [
    "model = AdaBoostClassifier(n_estimators=100)\n",
    "model.fit(X_train, y_train)\n",
    "predicted = model.predict(X_test)\n",
    "accuracy = accuracy_score(predicted,y_test)\n",
    "# print(model)\n",
    "print(\"-----------------------------------------AdaBoost---------------------------------\")\n",
    "print(\"AdaBoost_accuracy = \",accuracy*100)\n",
    "recall = recall_score(y_test, predicted, average = \"weighted\")\n",
    "precision = precision_score(y_test, predicted , average=\"weighted\")\n",
    "f1 = f1_score(y_test, predicted, average=\"weighted\")\n",
    "print(\"precision = %.5f\" %precision)\n",
    "print(\"recall = %.5f\" %recall)\n",
    "print(\"f1score = %.5f\" %f1)"
   ]
  },
  {
   "cell_type": "code",
   "execution_count": null,
   "id": "be9aed4f",
   "metadata": {},
   "outputs": [],
   "source": []
  }
 ],
 "metadata": {
  "kernelspec": {
   "display_name": "Python 3 (ipykernel)",
   "language": "python",
   "name": "python3"
  },
  "language_info": {
   "codemirror_mode": {
    "name": "ipython",
    "version": 3
   },
   "file_extension": ".py",
   "mimetype": "text/x-python",
   "name": "python",
   "nbconvert_exporter": "python",
   "pygments_lexer": "ipython3",
   "version": "3.11.2"
  }
 },
 "nbformat": 4,
 "nbformat_minor": 5
}
