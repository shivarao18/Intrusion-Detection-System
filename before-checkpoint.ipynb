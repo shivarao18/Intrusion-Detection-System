{
 "cells": [
  {
   "cell_type": "code",
   "execution_count": 1,
   "id": "4ea4fd59",
   "metadata": {},
   "outputs": [
    {
     "name": "stdout",
     "output_type": "stream",
     "text": [
      "Requirement already satisfied: seaborn in c:\\users\\gopi tankala\\appdata\\local\\programs\\python\\python311\\lib\\site-packages (0.12.2)\n",
      "Requirement already satisfied: numpy!=1.24.0,>=1.17 in c:\\users\\gopi tankala\\appdata\\local\\programs\\python\\python311\\lib\\site-packages (from seaborn) (1.24.2)\n",
      "Requirement already satisfied: pandas>=0.25 in c:\\users\\gopi tankala\\appdata\\local\\programs\\python\\python311\\lib\\site-packages (from seaborn) (1.5.3)\n",
      "Requirement already satisfied: matplotlib!=3.6.1,>=3.1 in c:\\users\\gopi tankala\\appdata\\local\\programs\\python\\python311\\lib\\site-packages (from seaborn) (3.7.1)\n",
      "Requirement already satisfied: contourpy>=1.0.1 in c:\\users\\gopi tankala\\appdata\\local\\programs\\python\\python311\\lib\\site-packages (from matplotlib!=3.6.1,>=3.1->seaborn) (1.0.7)\n",
      "Requirement already satisfied: cycler>=0.10 in c:\\users\\gopi tankala\\appdata\\local\\programs\\python\\python311\\lib\\site-packages (from matplotlib!=3.6.1,>=3.1->seaborn) (0.11.0)\n",
      "Requirement already satisfied: fonttools>=4.22.0 in c:\\users\\gopi tankala\\appdata\\local\\programs\\python\\python311\\lib\\site-packages (from matplotlib!=3.6.1,>=3.1->seaborn) (4.39.3)\n",
      "Requirement already satisfied: kiwisolver>=1.0.1 in c:\\users\\gopi tankala\\appdata\\local\\programs\\python\\python311\\lib\\site-packages (from matplotlib!=3.6.1,>=3.1->seaborn) (1.4.4)\n",
      "Requirement already satisfied: packaging>=20.0 in c:\\users\\gopi tankala\\appdata\\local\\programs\\python\\python311\\lib\\site-packages (from matplotlib!=3.6.1,>=3.1->seaborn) (23.0)\n",
      "Requirement already satisfied: pillow>=6.2.0 in c:\\users\\gopi tankala\\appdata\\local\\programs\\python\\python311\\lib\\site-packages (from matplotlib!=3.6.1,>=3.1->seaborn) (9.5.0)\n",
      "Requirement already satisfied: pyparsing>=2.3.1 in c:\\users\\gopi tankala\\appdata\\local\\programs\\python\\python311\\lib\\site-packages (from matplotlib!=3.6.1,>=3.1->seaborn) (3.0.9)\n",
      "Requirement already satisfied: python-dateutil>=2.7 in c:\\users\\gopi tankala\\appdata\\local\\programs\\python\\python311\\lib\\site-packages (from matplotlib!=3.6.1,>=3.1->seaborn) (2.8.2)\n",
      "Requirement already satisfied: pytz>=2020.1 in c:\\users\\gopi tankala\\appdata\\local\\programs\\python\\python311\\lib\\site-packages (from pandas>=0.25->seaborn) (2022.7.1)\n",
      "Requirement already satisfied: six>=1.5 in c:\\users\\gopi tankala\\appdata\\local\\programs\\python\\python311\\lib\\site-packages (from python-dateutil>=2.7->matplotlib!=3.6.1,>=3.1->seaborn) (1.16.0)\n"
     ]
    }
   ],
   "source": [
    "!pip install seaborn"
   ]
  },
  {
   "cell_type": "code",
   "execution_count": 3,
   "id": "458b3d3e",
   "metadata": {},
   "outputs": [],
   "source": [
    "from sklearn.naive_bayes import GaussianNB, BernoulliNB\n",
    "from sklearn.metrics import accuracy_score, classification_report\n",
    "from sklearn.neighbors import KNeighborsClassifier\n",
    "from sklearn.linear_model import LogisticRegression\n",
    "from sklearn.linear_model import SGDClassifier\n",
    "from sklearn.model_selection import train_test_split\n",
    "from sklearn.metrics import confusion_matrix\n",
    "from sklearn.ensemble import RandomForestClassifier\n",
    "from sklearn.metrics import accuracy_score, classification_report\n",
    "from sklearn.preprocessing import StandardScaler\n",
    "from sklearn.preprocessing import MinMaxScaler\n",
    "from sklearn.feature_selection import SelectKBest\n",
    "from sklearn.feature_selection import chi2\n",
    "from sklearn.linear_model import LogisticRegression\n",
    "from sklearn.naive_bayes import GaussianNB\n",
    "from sklearn.neighbors import KNeighborsClassifier\n",
    "from sklearn.tree import DecisionTreeClassifier\n",
    "from sklearn.metrics import (precision_score, recall_score,f1_score, accuracy_score,mean_squared_error,mean_absolute_error)\n",
    "from sklearn.ensemble import AdaBoostClassifier\n",
    "from sklearn.ensemble import RandomForestClassifier\n",
    "from sklearn.preprocessing import Normalizer\n",
    "from sklearn.model_selection import GridSearchCV\n",
    "from sklearn.svm import SVC\n",
    "from sklearn.metrics import confusion_matrix\n",
    "from sklearn.metrics import (precision_score, recall_score,f1_score, accuracy_score,mean_squared_error,mean_absolute_error, roc_curve, classification_report,auc)\n",
    "from sklearn.kernel_approximation import RBFSampler\n",
    "from sklearn.neural_network import MLPClassifier\n",
    "from sklearn.preprocessing import StandardScaler\n",
    "from sklearn.decomposition import NMF;\n",
    "from sklearn.feature_extraction.text import TfidfTransformer\n",
    "from sklearn import preprocessing\n",
    "from sklearn import svm\n",
    "from sklearn import tree\n",
    "import pandas as pd\n",
    "import numpy as np\n",
    "import seaborn as sns"
   ]
  },
  {
   "cell_type": "code",
   "execution_count": 4,
   "id": "17cf6768",
   "metadata": {},
   "outputs": [],
   "source": [
    "col_names = np.array([\"protocol_type\",\"service\",\"flag\",\"src_bytes\",\n",
    "    \"dst_bytes\",\"land\",\"wrong_fragment\",\"urgent\",\"hot\",\"num_failed_logins\",\n",
    "    \"logged_in\",\"num_compromised\",\"root_shell\",\"su_attempted\",\"num_root\",\n",
    "    \"num_file_creations\",\"num_shells\",\"num_access_files\",\"num_outbound_cmds\",\n",
    "    \"is_host_login\",\"is_guest_login\",\"count\",\"srv_count\",\"serror_rate\",\n",
    "    \"srv_serror_rate\",\"rerror_rate\",\"srv_rerror_rate\",\"same_srv_rate\",\n",
    "    \"diff_srv_rate\",\"srv_diff_host_rate\",\"dst_host_count\",\"dst_host_srv_count\",\n",
    "    \"dst_host_same_srv_rate\",\"dst_host_diff_srv_rate\",\"dst_host_same_src_port_rate\",\n",
    "    \"dst_host_srv_diff_host_rate\",\"dst_host_serror_rate\",\"dst_host_srv_serror_rate\",\n",
    "    \"dst_host_rerror_rate\",\"dst_host_srv_rerror_rate\",\"labels\",\"port\"])\n",
    "\n",
    "data = pd.read_csv('KDDTrain+.txt', names=col_names)"
   ]
  },
  {
   "cell_type": "code",
   "execution_count": 5,
   "id": "45c79929",
   "metadata": {},
   "outputs": [],
   "source": [
    "label_encoder = preprocessing.LabelEncoder() \n",
    "  \n",
    "data['protocol_type']= label_encoder.fit_transform(data['protocol_type']) \n",
    "data['service']= label_encoder.fit_transform(data['service']) \n",
    "data['flag']= label_encoder.fit_transform(data['flag']) \n",
    "data['labels']= label_encoder.fit_transform(data['labels'])"
   ]
  },
  {
   "cell_type": "code",
   "execution_count": 6,
   "id": "648be88c",
   "metadata": {},
   "outputs": [
    {
     "data": {
      "text/html": [
       "<div>\n",
       "<style scoped>\n",
       "    .dataframe tbody tr th:only-of-type {\n",
       "        vertical-align: middle;\n",
       "    }\n",
       "\n",
       "    .dataframe tbody tr th {\n",
       "        vertical-align: top;\n",
       "    }\n",
       "\n",
       "    .dataframe thead th {\n",
       "        text-align: right;\n",
       "    }\n",
       "</style>\n",
       "<table border=\"1\" class=\"dataframe\">\n",
       "  <thead>\n",
       "    <tr style=\"text-align: right;\">\n",
       "      <th></th>\n",
       "      <th>protocol_type</th>\n",
       "      <th>service</th>\n",
       "      <th>flag</th>\n",
       "      <th>src_bytes</th>\n",
       "      <th>dst_bytes</th>\n",
       "      <th>land</th>\n",
       "      <th>wrong_fragment</th>\n",
       "      <th>urgent</th>\n",
       "      <th>hot</th>\n",
       "      <th>num_failed_logins</th>\n",
       "      <th>...</th>\n",
       "      <th>dst_host_same_srv_rate</th>\n",
       "      <th>dst_host_diff_srv_rate</th>\n",
       "      <th>dst_host_same_src_port_rate</th>\n",
       "      <th>dst_host_srv_diff_host_rate</th>\n",
       "      <th>dst_host_serror_rate</th>\n",
       "      <th>dst_host_srv_serror_rate</th>\n",
       "      <th>dst_host_rerror_rate</th>\n",
       "      <th>dst_host_srv_rerror_rate</th>\n",
       "      <th>labels</th>\n",
       "      <th>port</th>\n",
       "    </tr>\n",
       "  </thead>\n",
       "  <tbody>\n",
       "    <tr>\n",
       "      <th>0</th>\n",
       "      <td>1</td>\n",
       "      <td>20</td>\n",
       "      <td>9</td>\n",
       "      <td>491</td>\n",
       "      <td>0</td>\n",
       "      <td>0</td>\n",
       "      <td>0</td>\n",
       "      <td>0</td>\n",
       "      <td>0</td>\n",
       "      <td>0</td>\n",
       "      <td>...</td>\n",
       "      <td>0.17</td>\n",
       "      <td>0.03</td>\n",
       "      <td>0.17</td>\n",
       "      <td>0.00</td>\n",
       "      <td>0.00</td>\n",
       "      <td>0.00</td>\n",
       "      <td>0.05</td>\n",
       "      <td>0.00</td>\n",
       "      <td>11</td>\n",
       "      <td>20</td>\n",
       "    </tr>\n",
       "    <tr>\n",
       "      <th>0</th>\n",
       "      <td>2</td>\n",
       "      <td>44</td>\n",
       "      <td>9</td>\n",
       "      <td>146</td>\n",
       "      <td>0</td>\n",
       "      <td>0</td>\n",
       "      <td>0</td>\n",
       "      <td>0</td>\n",
       "      <td>0</td>\n",
       "      <td>0</td>\n",
       "      <td>...</td>\n",
       "      <td>0.00</td>\n",
       "      <td>0.60</td>\n",
       "      <td>0.88</td>\n",
       "      <td>0.00</td>\n",
       "      <td>0.00</td>\n",
       "      <td>0.00</td>\n",
       "      <td>0.00</td>\n",
       "      <td>0.00</td>\n",
       "      <td>11</td>\n",
       "      <td>15</td>\n",
       "    </tr>\n",
       "    <tr>\n",
       "      <th>0</th>\n",
       "      <td>1</td>\n",
       "      <td>49</td>\n",
       "      <td>5</td>\n",
       "      <td>0</td>\n",
       "      <td>0</td>\n",
       "      <td>0</td>\n",
       "      <td>0</td>\n",
       "      <td>0</td>\n",
       "      <td>0</td>\n",
       "      <td>0</td>\n",
       "      <td>...</td>\n",
       "      <td>0.10</td>\n",
       "      <td>0.05</td>\n",
       "      <td>0.00</td>\n",
       "      <td>0.00</td>\n",
       "      <td>1.00</td>\n",
       "      <td>1.00</td>\n",
       "      <td>0.00</td>\n",
       "      <td>0.00</td>\n",
       "      <td>9</td>\n",
       "      <td>19</td>\n",
       "    </tr>\n",
       "    <tr>\n",
       "      <th>0</th>\n",
       "      <td>1</td>\n",
       "      <td>24</td>\n",
       "      <td>9</td>\n",
       "      <td>232</td>\n",
       "      <td>8153</td>\n",
       "      <td>0</td>\n",
       "      <td>0</td>\n",
       "      <td>0</td>\n",
       "      <td>0</td>\n",
       "      <td>0</td>\n",
       "      <td>...</td>\n",
       "      <td>1.00</td>\n",
       "      <td>0.00</td>\n",
       "      <td>0.03</td>\n",
       "      <td>0.04</td>\n",
       "      <td>0.03</td>\n",
       "      <td>0.01</td>\n",
       "      <td>0.00</td>\n",
       "      <td>0.01</td>\n",
       "      <td>11</td>\n",
       "      <td>21</td>\n",
       "    </tr>\n",
       "    <tr>\n",
       "      <th>0</th>\n",
       "      <td>1</td>\n",
       "      <td>24</td>\n",
       "      <td>9</td>\n",
       "      <td>199</td>\n",
       "      <td>420</td>\n",
       "      <td>0</td>\n",
       "      <td>0</td>\n",
       "      <td>0</td>\n",
       "      <td>0</td>\n",
       "      <td>0</td>\n",
       "      <td>...</td>\n",
       "      <td>1.00</td>\n",
       "      <td>0.00</td>\n",
       "      <td>0.00</td>\n",
       "      <td>0.00</td>\n",
       "      <td>0.00</td>\n",
       "      <td>0.00</td>\n",
       "      <td>0.00</td>\n",
       "      <td>0.00</td>\n",
       "      <td>11</td>\n",
       "      <td>21</td>\n",
       "    </tr>\n",
       "  </tbody>\n",
       "</table>\n",
       "<p>5 rows × 42 columns</p>\n",
       "</div>"
      ],
      "text/plain": [
       "   protocol_type  service  flag  src_bytes  dst_bytes  land  wrong_fragment  \\\n",
       "0              1       20     9        491          0     0               0   \n",
       "0              2       44     9        146          0     0               0   \n",
       "0              1       49     5          0          0     0               0   \n",
       "0              1       24     9        232       8153     0               0   \n",
       "0              1       24     9        199        420     0               0   \n",
       "\n",
       "   urgent  hot  num_failed_logins  ...  dst_host_same_srv_rate  \\\n",
       "0       0    0                  0  ...                    0.17   \n",
       "0       0    0                  0  ...                    0.00   \n",
       "0       0    0                  0  ...                    0.10   \n",
       "0       0    0                  0  ...                    1.00   \n",
       "0       0    0                  0  ...                    1.00   \n",
       "\n",
       "   dst_host_diff_srv_rate  dst_host_same_src_port_rate  \\\n",
       "0                    0.03                         0.17   \n",
       "0                    0.60                         0.88   \n",
       "0                    0.05                         0.00   \n",
       "0                    0.00                         0.03   \n",
       "0                    0.00                         0.00   \n",
       "\n",
       "   dst_host_srv_diff_host_rate  dst_host_serror_rate  \\\n",
       "0                         0.00                  0.00   \n",
       "0                         0.00                  0.00   \n",
       "0                         0.00                  1.00   \n",
       "0                         0.04                  0.03   \n",
       "0                         0.00                  0.00   \n",
       "\n",
       "   dst_host_srv_serror_rate  dst_host_rerror_rate  dst_host_srv_rerror_rate  \\\n",
       "0                      0.00                  0.05                      0.00   \n",
       "0                      0.00                  0.00                      0.00   \n",
       "0                      1.00                  0.00                      0.00   \n",
       "0                      0.01                  0.00                      0.01   \n",
       "0                      0.00                  0.00                      0.00   \n",
       "\n",
       "   labels  port  \n",
       "0      11    20  \n",
       "0      11    15  \n",
       "0       9    19  \n",
       "0      11    21  \n",
       "0      11    21  \n",
       "\n",
       "[5 rows x 42 columns]"
      ]
     },
     "execution_count": 6,
     "metadata": {},
     "output_type": "execute_result"
    }
   ],
   "source": [
    "data.head()"
   ]
  },
  {
   "cell_type": "code",
   "execution_count": 7,
   "id": "432e87eb",
   "metadata": {},
   "outputs": [
    {
     "data": {
      "text/plain": [
       "(125973, 40)"
      ]
     },
     "execution_count": 7,
     "metadata": {},
     "output_type": "execute_result"
    }
   ],
   "source": [
    "data = data.drop(columns=['land'], axis=1).copy()\n",
    "data = data.drop(columns=['urgent'], axis=1).copy()\n",
    "data.shape"
   ]
  },
  {
   "cell_type": "code",
   "execution_count": 8,
   "id": "98bb5786",
   "metadata": {},
   "outputs": [],
   "source": [
    "y=data['labels']\n",
    "X = data.drop(['labels'], axis = 1)\n",
    "X = pd.get_dummies(X, prefix_sep='_')"
   ]
  },
  {
   "cell_type": "code",
   "execution_count": 12,
   "id": "d0c8cbf0",
   "metadata": {},
   "outputs": [],
   "source": [
    "y = np.array(y)\n",
    "X_train, X_test, y_train, y_test = train_test_split(normalized_X,y,test_size=0.25, random_state=42)\n",
    "\n",
    "scaler = MinMaxScaler()\n",
    "X_train = scaler.fit_transform(X_train)\n",
    "X_test = scaler.transform(X_test)"
   ]
  },
  {
   "cell_type": "code",
   "execution_count": 90,
   "id": "7ee81d6e",
   "metadata": {},
   "outputs": [
    {
     "name": "stdout",
     "output_type": "stream",
     "text": [
      "-----------------------------------------LR---------------------------------\n",
      "LogisticRegression_accuracy =  94.33860417857369\n",
      "precision = 0.93067\n",
      "recall = 0.94339\n",
      "f1score = 0.93188\n"
     ]
    },
    {
     "name": "stderr",
     "output_type": "stream",
     "text": [
      "C:\\Users\\GOPI TANKALA\\AppData\\Local\\Programs\\Python\\Python311\\Lib\\site-packages\\sklearn\\metrics\\_classification.py:1344: UndefinedMetricWarning: Precision is ill-defined and being set to 0.0 in labels with no predicted samples. Use `zero_division` parameter to control this behavior.\n",
      "  _warn_prf(average, modifier, msg_start, len(result))\n"
     ]
    }
   ],
   "source": [
    "LGR_Classifier = LogisticRegression(n_jobs=-1, random_state=0)\n",
    "LGR_Classifier.fit(X_train, y_train);\n",
    "\n",
    "predicted=LGR_Classifier.predict(X_test)\n",
    "\n",
    "print(\"-----------------------------------------LR---------------------------------\")\n",
    "# print(LGR_Classifier)\n",
    "\n",
    "accuracy = accuracy_score(predicted,y_test)\n",
    "recall = recall_score(y_test, predicted, average = \"weighted\")\n",
    "precision = precision_score(y_test, predicted , average=\"weighted\")\n",
    "f1 = f1_score(y_test, predicted, average=\"weighted\")\n",
    "\n",
    "print(\"LogisticRegression_accuracy = \",accuracy*100)\n",
    "print(\"precision = %.5f\" %precision)\n",
    "print(\"recall = %.5f\" %recall)\n",
    "print(\"f1score = %.5f\" %f1)"
   ]
  },
  {
   "cell_type": "code",
   "execution_count": 92,
   "id": "f913f0d8",
   "metadata": {},
   "outputs": [
    {
     "name": "stdout",
     "output_type": "stream",
     "text": [
      "-----------------------------------------NB---------------------------------\n",
      "GaussianNB_accuracy =  53.14345589636121\n",
      "precision = 0.91836\n",
      "recall = 0.53143\n",
      "f1score = 0.56819\n"
     ]
    },
    {
     "name": "stderr",
     "output_type": "stream",
     "text": [
      "C:\\Users\\GOPI TANKALA\\AppData\\Local\\Programs\\Python\\Python311\\Lib\\site-packages\\sklearn\\metrics\\_classification.py:1344: UndefinedMetricWarning: Recall is ill-defined and being set to 0.0 in labels with no true samples. Use `zero_division` parameter to control this behavior.\n",
      "  _warn_prf(average, modifier, msg_start, len(result))\n",
      "C:\\Users\\GOPI TANKALA\\AppData\\Local\\Programs\\Python\\Python311\\Lib\\site-packages\\sklearn\\metrics\\_classification.py:1344: UndefinedMetricWarning: Precision is ill-defined and being set to 0.0 in labels with no predicted samples. Use `zero_division` parameter to control this behavior.\n",
      "  _warn_prf(average, modifier, msg_start, len(result))\n"
     ]
    }
   ],
   "source": [
    "# print(\"-----------------------------------------NB---------------------------------\")\n",
    "# model = GaussianNB()\n",
    "# model.fit(X_train, y_train)\n",
    "# predicted = model.predict(X_test)\n",
    "# accuracy = accuracy_score(predicted,y_test)\n",
    "# # print(model)\n",
    "# print(\"GaussianNB_accuracy = \",accuracy*100)\n",
    "# recall = recall_score(y_test, predicted, average = \"weighted\")\n",
    "# precision = precision_score(y_test, predicted , average=\"weighted\")\n",
    "# f1 = f1_score(y_test, predicted, average=\"weighted\")\n",
    "\n",
    "# print(\"precision = %.5f\" %precision)\n",
    "# print(\"recall = %.5f\" %recall)\n",
    "# print(\"f1score = %.5f\" %f1)"
   ]
  },
  {
   "cell_type": "code",
   "execution_count": 95,
   "id": "7646df53",
   "metadata": {},
   "outputs": [
    {
     "name": "stdout",
     "output_type": "stream",
     "text": [
      "-----------------------------------------DT---------------------------------\n",
      "decisionTree_accuracy =  98.99663427954532\n",
      "precision = 0.99002\n",
      "recall = 0.98997\n",
      "f1score = 0.98997\n"
     ]
    },
    {
     "name": "stderr",
     "output_type": "stream",
     "text": [
      "C:\\Users\\GOPI TANKALA\\AppData\\Local\\Programs\\Python\\Python311\\Lib\\site-packages\\sklearn\\metrics\\_classification.py:1344: UndefinedMetricWarning: Recall is ill-defined and being set to 0.0 in labels with no true samples. Use `zero_division` parameter to control this behavior.\n",
      "  _warn_prf(average, modifier, msg_start, len(result))\n",
      "C:\\Users\\GOPI TANKALA\\AppData\\Local\\Programs\\Python\\Python311\\Lib\\site-packages\\sklearn\\metrics\\_classification.py:1344: UndefinedMetricWarning: Precision is ill-defined and being set to 0.0 in labels with no predicted samples. Use `zero_division` parameter to control this behavior.\n",
      "  _warn_prf(average, modifier, msg_start, len(result))\n"
     ]
    }
   ],
   "source": [
    "model = DecisionTreeClassifier()\n",
    "model.fit(X_train, y_train)\n",
    "predicted = model.predict(X_test)\n",
    "accuracy = accuracy_score(predicted,y_test)\n",
    "# print(model)\n",
    "print(\"-----------------------------------------DT---------------------------------\")\n",
    "print(\"decisionTree_accuracy = \",accuracy*100)\n",
    "recall = recall_score(y_test, predicted, average = \"weighted\")\n",
    "precision = precision_score(y_test, predicted , average=\"weighted\")\n",
    "f1 = f1_score(y_test, predicted, average=\"weighted\")\n",
    "print(\"precision = %.5f\" %precision)\n",
    "print(\"recall = %.5f\" %recall)\n",
    "print(\"f1score = %.5f\" %f1)"
   ]
  },
  {
   "cell_type": "code",
   "execution_count": 94,
   "id": "60412f92",
   "metadata": {},
   "outputs": [
    {
     "name": "stdout",
     "output_type": "stream",
     "text": [
      "KNeighborsClassifier(n_neighbors=1)\n",
      "-----------------------------------------KNN---------------------------------\n",
      "knn_accuracy =  99.05378802311552\n",
      "precision = 0.99065\n",
      "recall = 0.99054\n",
      "f1score = 0.99058\n"
     ]
    },
    {
     "name": "stderr",
     "output_type": "stream",
     "text": [
      "C:\\Users\\GOPI TANKALA\\AppData\\Local\\Programs\\Python\\Python311\\Lib\\site-packages\\sklearn\\metrics\\_classification.py:1344: UndefinedMetricWarning: Recall is ill-defined and being set to 0.0 in labels with no true samples. Use `zero_division` parameter to control this behavior.\n",
      "  _warn_prf(average, modifier, msg_start, len(result))\n",
      "C:\\Users\\GOPI TANKALA\\AppData\\Local\\Programs\\Python\\Python311\\Lib\\site-packages\\sklearn\\metrics\\_classification.py:1344: UndefinedMetricWarning: Precision is ill-defined and being set to 0.0 in labels with no predicted samples. Use `zero_division` parameter to control this behavior.\n",
      "  _warn_prf(average, modifier, msg_start, len(result))\n"
     ]
    }
   ],
   "source": [
    "k = 1\n",
    "model = KNeighborsClassifier(n_neighbors=k)\n",
    "model.fit(X_train, y_train)\n",
    "predicted = model.predict(X_test)\n",
    "accuracy = accuracy_score(predicted,y_test)\n",
    "print(model)\n",
    "print(\"-----------------------------------------KNN---------------------------------\")\n",
    "print(\"knn_accuracy = \",accuracy*100)\n",
    "recall = recall_score(y_test, predicted, average = \"weighted\")\n",
    "precision = precision_score(y_test, predicted , average=\"weighted\")\n",
    "f1 = f1_score(y_test, predicted, average=\"weighted\")\n",
    "\n",
    "print(\"precision = %.5f\" %precision)\n",
    "print(\"recall = %.5f\" %recall)\n",
    "print(\"f1score = %.5f\" %f1)"
   ]
  },
  {
   "cell_type": "code",
   "execution_count": 97,
   "id": "e02a784a",
   "metadata": {},
   "outputs": [
    {
     "name": "stdout",
     "output_type": "stream",
     "text": [
      "--------------------------------------RF--------------------------------------\n",
      "rf_accuracy =  99.31415507715755\n",
      "precision = 0.99290\n",
      "recall = 0.99314\n",
      "f1score = 0.99294\n"
     ]
    },
    {
     "name": "stderr",
     "output_type": "stream",
     "text": [
      "C:\\Users\\GOPI TANKALA\\AppData\\Local\\Programs\\Python\\Python311\\Lib\\site-packages\\sklearn\\metrics\\_classification.py:1344: UndefinedMetricWarning: Precision is ill-defined and being set to 0.0 in labels with no predicted samples. Use `zero_division` parameter to control this behavior.\n",
      "  _warn_prf(average, modifier, msg_start, len(result))\n"
     ]
    }
   ],
   "source": [
    "model = RandomForestClassifier(n_estimators=100)\n",
    "model.fit(X_train, y_train)\n",
    "predicted = model.predict(X_test)\n",
    "accuracy = accuracy_score(predicted,y_test)\n",
    "# print(model)\n",
    "print(\"--------------------------------------RF--------------------------------------\")\n",
    "print(\"rf_accuracy = \",accuracy*100)\n",
    "recall = recall_score(y_test, predicted, average = \"weighted\")\n",
    "precision = precision_score(y_test, predicted , average=\"weighted\")\n",
    "f1 = f1_score(y_test, predicted, average=\"weighted\")\n",
    "\n",
    "print(\"precision = %.5f\" %precision)\n",
    "print(\"recall = %.5f\" %recall)\n",
    "print(\"f1score = %.5f\" %f1)"
   ]
  },
  {
   "cell_type": "code",
   "execution_count": 14,
   "id": "02add520",
   "metadata": {},
   "outputs": [
    {
     "name": "stdout",
     "output_type": "stream",
     "text": [
      "SVC()\n",
      "--------------------------------------SVM--------------------------------------\n",
      "SVM_accuracy =  97.01847971042103\n",
      "precision = 0.96896\n",
      "recall = 0.97018\n",
      "f1score = 0.96639\n"
     ]
    },
    {
     "name": "stderr",
     "output_type": "stream",
     "text": [
      "C:\\Users\\GOPI TANKALA\\AppData\\Local\\Programs\\Python\\Python311\\Lib\\site-packages\\sklearn\\metrics\\_classification.py:1344: UndefinedMetricWarning: Precision is ill-defined and being set to 0.0 in labels with no predicted samples. Use `zero_division` parameter to control this behavior.\n",
      "  _warn_prf(average, modifier, msg_start, len(result))\n"
     ]
    }
   ],
   "source": [
    "from sklearn import svm\n",
    "svm = svm.SVC()\n",
    "svm = svm.fit(X_train,y_train)\n",
    "\n",
    "predicted = svm.predict(X_test)\n",
    "accuracy = accuracy_score(pred_svm, y_test)\n",
    "print(svm)\n",
    "print(\"--------------------------------------SVM--------------------------------------\")\n",
    "print(\"SVM_accuracy = \",accuracy*100)\n",
    "recall = recall_score(y_test, predicted, average = \"weighted\")\n",
    "precision = precision_score(y_test, predicted , average=\"weighted\")\n",
    "f1 = f1_score(y_test, predicted, average=\"weighted\")\n",
    "\n",
    "print(\"precision = %.5f\" %precision)\n",
    "print(\"recall = %.5f\" %recall)\n",
    "print(\"f1score = %.5f\" %f1)"
   ]
  },
  {
   "cell_type": "code",
   "execution_count": 99,
   "id": "d562cf01",
   "metadata": {},
   "outputs": [
    {
     "name": "stdout",
     "output_type": "stream",
     "text": [
      "-------------------------------------Feedforward Neural Network---------------------------------\n",
      "MLPClassifier(hidden_layer_sizes=(64, 32), max_iter=100)\n",
      "ffn_accuracy =  98.66006223407634\n",
      "precision = 0.98603\n",
      "recall = 0.98660\n",
      "f1score = 0.98597\n"
     ]
    },
    {
     "name": "stderr",
     "output_type": "stream",
     "text": [
      "C:\\Users\\GOPI TANKALA\\AppData\\Local\\Programs\\Python\\Python311\\Lib\\site-packages\\sklearn\\neural_network\\_multilayer_perceptron.py:686: ConvergenceWarning: Stochastic Optimizer: Maximum iterations (100) reached and the optimization hasn't converged yet.\n",
      "  warnings.warn(\n",
      "C:\\Users\\GOPI TANKALA\\AppData\\Local\\Programs\\Python\\Python311\\Lib\\site-packages\\sklearn\\metrics\\_classification.py:1344: UndefinedMetricWarning: Precision is ill-defined and being set to 0.0 in labels with no predicted samples. Use `zero_division` parameter to control this behavior.\n",
      "  _warn_prf(average, modifier, msg_start, len(result))\n"
     ]
    }
   ],
   "source": [
    "from sklearn.neural_network import MLPClassifier\n",
    "from sklearn.metrics import accuracy_score, recall_score, precision_score, f1_score\n",
    "import numpy as np\n",
    "print(\"-------------------------------------Feedforward Neural Network---------------------------------\")\n",
    "model = MLPClassifier(hidden_layer_sizes=(64, 32), activation='relu', solver='adam', max_iter=100)\n",
    "model.fit(X_train, y_train)\n",
    "predicted = model.predict(X_test)\n",
    "accuracy = accuracy_score(predicted,y_test)\n",
    "print(model)\n",
    "print(\"ffn_accuracy = \",accuracy*100)\n",
    "recall = recall_score(y_test, predicted, average = \"weighted\")\n",
    "precision = precision_score(y_test, predicted , average=\"weighted\")\n",
    "f1 = f1_score(y_test, predicted, average=\"weighted\")\n",
    "\n",
    "print(\"precision = %.5f\" %precision)\n",
    "print(\"recall = %.5f\" %recall)\n",
    "print(\"f1score = %.5f\" %f1)"
   ]
  },
  {
   "cell_type": "code",
   "execution_count": 100,
   "id": "9f6e4741",
   "metadata": {},
   "outputs": [
    {
     "name": "stdout",
     "output_type": "stream",
     "text": [
      "-----------------------------------------AdaBoost---------------------------------\n",
      "AdaBoost_accuracy =  84.01600304819966\n",
      "precision = 0.72892\n",
      "recall = 0.84016\n",
      "f1score = 0.78038\n"
     ]
    },
    {
     "name": "stderr",
     "output_type": "stream",
     "text": [
      "C:\\Users\\GOPI TANKALA\\AppData\\Local\\Programs\\Python\\Python311\\Lib\\site-packages\\sklearn\\metrics\\_classification.py:1344: UndefinedMetricWarning: Precision is ill-defined and being set to 0.0 in labels with no predicted samples. Use `zero_division` parameter to control this behavior.\n",
      "  _warn_prf(average, modifier, msg_start, len(result))\n"
     ]
    }
   ],
   "source": [
    "model = AdaBoostClassifier(n_estimators=100)\n",
    "model.fit(X_train, y_train)\n",
    "predicted = model.predict(X_test)\n",
    "accuracy = accuracy_score(predicted,y_test)\n",
    "# print(model)\n",
    "print(\"-----------------------------------------AdaBoost---------------------------------\")\n",
    "print(\"AdaBoost_accuracy = \",accuracy*100)\n",
    "recall = recall_score(y_test, predicted, average = \"weighted\")\n",
    "precision = precision_score(y_test, predicted , average=\"weighted\")\n",
    "f1 = f1_score(y_test, predicted, average=\"weighted\")\n",
    "print(\"precision = %.5f\" %precision)\n",
    "print(\"recall = %.5f\" %recall)\n",
    "print(\"f1score = %.5f\" %f1)"
   ]
  },
  {
   "cell_type": "code",
   "execution_count": null,
   "id": "35974a33",
   "metadata": {},
   "outputs": [],
   "source": []
  }
 ],
 "metadata": {
  "kernelspec": {
   "display_name": "Python 3 (ipykernel)",
   "language": "python",
   "name": "python3"
  },
  "language_info": {
   "codemirror_mode": {
    "name": "ipython",
    "version": 3
   },
   "file_extension": ".py",
   "mimetype": "text/x-python",
   "name": "python",
   "nbconvert_exporter": "python",
   "pygments_lexer": "ipython3",
   "version": "3.11.2"
  }
 },
 "nbformat": 4,
 "nbformat_minor": 5
}
